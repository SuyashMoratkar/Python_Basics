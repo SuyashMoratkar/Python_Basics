{
  "nbformat": 4,
  "nbformat_minor": 0,
  "metadata": {
    "colab": {
      "provenance": [],
      "authorship_tag": "ABX9TyM01biE71fv76aSn2SpvuwI",
      "include_colab_link": true
    },
    "kernelspec": {
      "name": "python3",
      "display_name": "Python 3"
    },
    "language_info": {
      "name": "python"
    }
  },
  "cells": [
    {
      "cell_type": "markdown",
      "metadata": {
        "id": "view-in-github",
        "colab_type": "text"
      },
      "source": [
        "<a href=\"https://colab.research.google.com/github/SuyashMoratkar/Python_Basics/blob/main/Python_basics_assignment_submission_SuyashMoratkar.ipynb\" target=\"_parent\"><img src=\"https://colab.research.google.com/assets/colab-badge.svg\" alt=\"Open In Colab\"/></a>"
      ]
    },
    {
      "cell_type": "code",
      "source": [
        "\n",
        "# Explain the key features of Python that make it a popular choice for programming.\n",
        "\n",
        "'''  ANS ->\n",
        "The key features of python that make it popular choice for programming are -\n",
        "1. Huge Repository base.\n",
        "2. Easy to learn and understand, as it is similar to english.\n",
        "3. It supports OOPs, functional and procedural prograaming.\n",
        "'''\n"
      ],
      "metadata": {
        "id": "a5SNRYEQc6Rn"
      },
      "execution_count": null,
      "outputs": []
    },
    {
      "cell_type": "code",
      "source": [
        "# Describe the role of predefined keywords in Python and provide examples of how they are used in a program.\n",
        "\n",
        "''' ANS ->\n",
        "Predefined keywords are the words in python that are reseved, these words have a specific role in pyhon. These words cannot be used for\n",
        "naming any variables or functions.\n",
        "'''"
      ],
      "metadata": {
        "id": "LyczSa3Hzx_b"
      },
      "execution_count": null,
      "outputs": []
    },
    {
      "cell_type": "code",
      "source": [
        "#  Compare and contrast mutable and immutable objects in Python with examples.\n",
        "\n",
        "''' ANS ->\n",
        "Mutable object are the objects in python that can be modified, without creating any new instance.\n",
        "Example -> List, Dictionary etc.'\n",
        "\n",
        "Immutable object are the objects in python that cannot be modified.\n",
        "Example -> Tuple, String\n",
        "'''"
      ],
      "metadata": {
        "id": "dhSxsSKF0emj"
      },
      "execution_count": null,
      "outputs": []
    },
    {
      "cell_type": "code",
      "source": [
        "#  Discuss the different types of operators in Python and provide examples of how they are used\n",
        "\n",
        "''' ANS ->\n",
        "Differenct types of operators are -\n",
        "1. Arithmatic(Generally used to perform mathematical operations) Ex. -> +,-,*,/,% etc.\n",
        "2. Comparison(Used to compare values) EX. -> <,>,!=,==,<=,>=\n",
        "3. Logical (Used to check multiple conditions at once) Ex. -> and, or, not\n",
        "4. Bitwise Operator\n",
        "'''\n",
        "a = 5+6-10*9/12\n",
        "b = 10 > 25\n",
        "c = a > 0 and b > 0"
      ],
      "metadata": {
        "id": "6LJqCXy_1Uak"
      },
      "execution_count": null,
      "outputs": []
    },
    {
      "cell_type": "code",
      "source": [
        "#  Explain the concept of type casting in Python with examples.\n",
        "\n",
        "''' ANS ->\n",
        "We use type casting when we need to convert data type of objects in python.\n",
        "'''\n",
        "a = '105'\n",
        "b = int(a)"
      ],
      "metadata": {
        "id": "bH-4EmpP2Wxz"
      },
      "execution_count": null,
      "outputs": []
    },
    {
      "cell_type": "code",
      "source": [
        "# How do conditional statements work in Python? Illustrate with examples\n",
        "\n",
        "''' ANS ->\n",
        "We use conditional statements in python when we need to perform differnt operations, according to different outputs of the conditions.\n",
        "Most common keywords are - if, else, elif.\n",
        "'''\n",
        "num = 125\n",
        "if(num % 2 == 0):\n",
        "  print(\"The number is even.\")\n",
        "else\n",
        "  print(\"The number is odd.\")"
      ],
      "metadata": {
        "id": "z4LSkEod3uet"
      },
      "execution_count": null,
      "outputs": []
    },
    {
      "cell_type": "code",
      "source": [
        "#  Describe the different types of loops in Python and their use cases with examples.\n",
        "\n",
        "''' ANS ->\n",
        "Python supports mainly two types of loops-> for loops and while loops.\n",
        "We use \"for loop\" when we need to itterate over an object, and perform operations on its constituents.\n",
        "\n",
        "We use \"whle loop\" when we need to  perform operations until a specific condition is met.\n",
        "'''\n",
        "\n",
        "# For Loop\n",
        "lis = [\"Suyash\", \"Moratkar\", \"Student\"]\n",
        "for word in lis:\n",
        "  print(word.upper())\n",
        "\n",
        "# While Loop\n",
        "i = 10\n",
        "while(i > 0):\n",
        "  print(i)\n",
        "  i -= 1"
      ],
      "metadata": {
        "id": "_n0Dy0Mt4h9i"
      },
      "execution_count": null,
      "outputs": []
    }
  ]
}